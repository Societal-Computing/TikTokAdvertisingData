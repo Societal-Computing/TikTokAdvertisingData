{
  "nbformat": 4,
  "nbformat_minor": 0,
  "metadata": {
    "colab": {
      "provenance": []
    },
    "kernelspec": {
      "name": "python3",
      "display_name": "Python 3"
    },
    "language_info": {
      "name": "python"
    }
  },
  "cells": [
    {
      "cell_type": "markdown",
      "source": [
        "# TikTok Advertising Data - What TikTok Tell us About the Society\n",
        "\n",
        "TikTok advertising data can be utilized for a variety of things, including informing marketing plans, gauging the success of campaigns, and learning more about audience behavior. We can easily target users in a certain place with a specified age group, gender, and interest using TikTok Ads Manager. For instance, you can display your adverts for girls between the ages of 25 and 34 who are interested in Luxury Hotels in Berlin. We will attempt to identify user numbers in various German states in this notebook while taking into account their gender, age, and hobbies."
      ],
      "metadata": {
        "id": "E78TIKOPki3L"
      }
    },
    {
      "cell_type": "markdown",
      "source": [
        "# Installing and Importing the Required Libraries\n",
        "\n",
        "**requests:** A Python library that simplifies making HTTP requests and interacting with web APIs.\n",
        "\n",
        "**json:** A library that enables encoding and decoding JSON data in Python.\n",
        "\n",
        "**pandas:** A powerful data manipulation library in Python for working with structured data, providing easy-to-use data structures and data analysis tools.\n",
        "\n",
        "**matplotlib.pyplot: **A plotting library in Python that allows for the creation of various types of visualizations, such as line plots, scatter plots, and histograms.\n",
        "\n",
        "**time:** A library that provides various time-related functions and utilities in Python, allowing for operations like measuring time intervals and adding delays.\n",
        "\n",
        "**seaborn:** A Python data visualization library built on top of matplotlib, providing a high-level interface for creating attractive and informative statistical graphics."
      ],
      "metadata": {
        "id": "95AX_fp0lS8a"
      }
    },
    {
      "cell_type": "code",
      "execution_count": 1,
      "metadata": {
        "id": "OIqy4x2Pqre0"
      },
      "outputs": [],
      "source": [
        "# !pip install requests\n",
        "# !pip install pandas\n",
        "# !pip install matplotlib.pyplot\n",
        "# !pip install seaborn\n",
        "\n",
        "\n",
        "import requests\n",
        "import json\n",
        "import pandas as pd\n",
        "import matplotlib.pyplot as plt\n",
        "import time\n",
        "import seaborn as sns"
      ]
    },
    {
      "cell_type": "markdown",
      "source": [
        "# Defining Cookies, Headers and Json\n",
        "\n",
        "Cookies, headers and json that contain various key-value pairs. The cookies  stores multiple cookie values that can be sent with HTTP requests, while the headers includes instructions to the server how to handle the request. Json define the payload which we need to access."
      ],
      "metadata": {
        "id": "FEalbMGlocJB"
      }
    },
    {
      "cell_type": "code",
      "source": [
        "cookies = {\n",
        "\n",
        "    'tta_attr_id': '0.1686291566.7242567125989064705',\n",
        "\n",
        "    'tta_attr_id_mirror': '0.1686291566.7242567125989064705',\n",
        "\n",
        "    'part': 'stable',\n",
        "\n",
        "    'passport_csrf_token': '5f8e11f914ee0721954394dfd296933e',\n",
        "\n",
        "    'passport_csrf_token_default': '5f8e11f914ee0721954394dfd296933e',\n",
        "\n",
        "    'pre_country': 'DE',\n",
        "\n",
        "    'csrftoken': 'AZoIEZhrus3HGSIKZUTBfbWCSxO03Rwq',\n",
        "\n",
        "    's_v_web_id': 'verify_lio6mvv9_Kv0iUiwo_7trT_4icB_9IhZ_DXyWDA5DOW4e',\n",
        "\n",
        "    'd_ticket_ads': 'cb0024caab9589700d6ae2427e1023e3612bb',\n",
        "\n",
        "    'sso_auth_status_ads': '77e11bcb27c0c3c20414f7b95481538c',\n",
        "\n",
        "    'sso_auth_status_ss_ads': '77e11bcb27c0c3c20414f7b95481538c',\n",
        "\n",
        "    'sso_uid_tt_ads': '36cfa6edfbb141e292a6ad60814b439d865b9dd14414bc1d077baa2a2e9108da',\n",
        "\n",
        "    'sso_uid_tt_ss_ads': '36cfa6edfbb141e292a6ad60814b439d865b9dd14414bc1d077baa2a2e9108da',\n",
        "\n",
        "    'sso_user_ads': '217f303c071cc59fd971264a2d4d520c',\n",
        "\n",
        "    'sso_user_ss_ads': '217f303c071cc59fd971264a2d4d520c',\n",
        "\n",
        "    'toutiao_sso_user_ads': '217f303c071cc59fd971264a2d4d520c',\n",
        "\n",
        "    'toutiao_sso_user_ss_ads': '217f303c071cc59fd971264a2d4d520c',\n",
        "\n",
        "    'sid_ucp_sso_v1_ads': '1.0.0-KDI1ODA3ODNmNTc1YWZjNjNhNjE2YzliODBkYTk3NzcwYWQ0ZDNmZWEKIAiCiN7o2d-8u2QQ2ouLpAYYrwwgDDCh5tujBjgBQOsHEAMaA3NnMSIgMjE3ZjMwM2MwNzFjYzU5ZmQ5NzEyNjRhMmQ0ZDUyMGM',\n",
        "\n",
        "    'ssid_ucp_sso_v1_ads': '1.0.0-KDI1ODA3ODNmNTc1YWZjNjNhNjE2YzliODBkYTk3NzcwYWQ0ZDNmZWEKIAiCiN7o2d-8u2QQ2ouLpAYYrwwgDDCh5tujBjgBQOsHEAMaA3NnMSIgMjE3ZjMwM2MwNzFjYzU5ZmQ5NzEyNjRhMmQ0ZDUyMGM',\n",
        "\n",
        "    'ac_csrftoken': '67e18c6dc1cf42cfb46dcc56fb89283d',\n",
        "\n",
        "    'cookie-consent': '{%22ga%22:true%2C%22af%22:true%2C%22fbp%22:true%2C%22lip%22:true%2C%22bing%22:true%2C%22ttads%22:true%2C%22reddit%22:true%2C%22criteo%22:true%2C%22version%22:%22v9%22}',\n",
        "\n",
        "    'store-idc': 'useast2a',\n",
        "\n",
        "    'store-country-code': 'de',\n",
        "\n",
        "    'store-country-code-src': 'uid',\n",
        "\n",
        "    'from_way': 'paid',\n",
        "\n",
        "    '_gcl_au': '1.1.1073791087.1686311899',\n",
        "\n",
        "    '_gid': 'GA1.2.1056190696.1686311899',\n",
        "\n",
        "    '_gat_UA-143770054-3': '1',\n",
        "\n",
        "    '_rdt_uuid': '1686311898873.8f2306bd-eedc-4bd9-ac15-adf14eac0de7',\n",
        "\n",
        "    '_fbp': 'fb.1.1686311898888.2048509297',\n",
        "\n",
        "    '_tt_enable_cookie': '1',\n",
        "\n",
        "    '_ttp': '2Qy3GL5nDQ3SsLxDQhq5S6QA86g',\n",
        "\n",
        "    '_gcl_aw': 'GCL.1686316821.CjwKCAjwm4ukBhAuEiwA0zQxk00OAya5lc1ibi4tzBMq6anBtgjbMT7DohqllyDyYqQU00qiyNaRURoCIxoQAvD_BwE',\n",
        "\n",
        "    '_gac_UA-143770054-3': '1.1686316821.CjwKCAjwm4ukBhAuEiwA0zQxk00OAya5lc1ibi4tzBMq6anBtgjbMT7DohqllyDyYqQU00qiyNaRURoCIxoQAvD_BwE',\n",
        "\n",
        "    '_uetsid': 'ecb518b006bc11ee870dcf1f66d39c1f',\n",
        "\n",
        "    '_uetvid': 'ecb5540006bc11eeb1d2d7dbf53acf46',\n",
        "\n",
        "    '_hjSessionUser_2525957': 'eyJpZCI6IjQzN2Y1OTU5LTIwOTktNTBiYi1iY2ExLTE4ZjQ5ZmNiMmQ0ZiIsImNyZWF0ZWQiOjE2ODYzMTE4OTg4OTksImV4aXN0aW5nIjp0cnVlfQ==',\n",
        "\n",
        "    'cto_bundle': 'QazT-19nYVNKRGFxWVRvNGJIRFB0OG5BYm5xNFRHYnFXRWg0YTFyR0h1b3I4am5ZZFBKd1laNmZFeFlwOGVLa2NMTHIxZHUlMkZ5UHlTN3NmWG1qZUYlMkZQSENxbkxRaFptYVA4dzl0eEVVR2ZVOWpNdFJDbHdhNjNwN2lSeWcxeEVEQzAzTmFjWGlXY2tDSk9meWlrTlE0d2t5MlhBJTNEJTNE',\n",
        "\n",
        "    'passport_auth_status_ads': '82a7b97448a2d2bf6e9da55f60ad2451%2C1e0ed49d6e0e110c5373a1eb0c039e68',\n",
        "\n",
        "    'passport_auth_status_ss_ads': '82a7b97448a2d2bf6e9da55f60ad2451%2C1e0ed49d6e0e110c5373a1eb0c039e68',\n",
        "\n",
        "    'sid_guard_ads': 'c9676ba770c2ebb3646300262ae0dfeb%7C1686316819%7C839110%7CMon%2C+19-Jun-2023+06%3A25%3A29+GMT',\n",
        "\n",
        "    'uid_tt_ads': '6fac74bb565e506c6b6e2901a513e7d43882497149591f37f75f78aae8a1583a',\n",
        "\n",
        "    'uid_tt_ss_ads': '6fac74bb565e506c6b6e2901a513e7d43882497149591f37f75f78aae8a1583a',\n",
        "\n",
        "    'sid_tt_ads': 'c9676ba770c2ebb3646300262ae0dfeb',\n",
        "\n",
        "    'sessionid_ads': 'c9676ba770c2ebb3646300262ae0dfeb',\n",
        "\n",
        "    'sessionid_ss_ads': 'c9676ba770c2ebb3646300262ae0dfeb',\n",
        "\n",
        "    'sid_ucp_v1_ads': '1.0.0-KDg1YmNkM2E4YTQ3OTFhOGYyYmM5MmQ2NTNkYjliNjYyZTNkNjQ3MTIKGgiCiN7o2d-8u2QQk86MpAYYrwwgDDgBQOsHEAMaA3NnMSIgYzk2NzZiYTc3MGMyZWJiMzY0NjMwMDI2MmFlMGRmZWI',\n",
        "\n",
        "    'ssid_ucp_v1_ads': '1.0.0-KDg1YmNkM2E4YTQ3OTFhOGYyYmM5MmQ2NTNkYjliNjYyZTNkNjQ3MTIKGgiCiN7o2d-8u2QQk86MpAYYrwwgDDgBQOsHEAMaA3NnMSIgYzk2NzZiYTc3MGMyZWJiMzY0NjMwMDI2MmFlMGRmZWI',\n",
        "\n",
        "    '_ga_R5EYE54KWQ': 'GS1.1.1686316820.2.0.1686316826.54.0.0',\n",
        "\n",
        "    'lang_type': 'en',\n",
        "\n",
        "    '_ga': 'GA1.1.936221396.1686291572',\n",
        "\n",
        "    'msToken': 'y0FSNUlVfsEYsUoTbPOtn2ClwDl56BGeU1BNDssgVKICkQ2Bqvb9gi4YH1qfwCqbtC1msUSBTLt0ZmmvzzTIg_pzV5symouaT6I29_fpWPiIIjR7wE4w9x3mf0eoja0=',\n",
        "\n",
        "    '_ga_HV1FL86553': 'GS1.1.1686316826.3.0.1686316833.53.0.0',\n",
        "\n",
        "    'odin_tt': '3cc4637750eda28d1eedfbecfd614b1cf7c8fd8587905317ed0940940dbbe59ec97e49ebb4ffea18564521c518b46dbe',\n",
        "\n",
        "    'api_csrftoken': 'AZoIEZhrus3HGSIKZUTBfbWCSxO03Rwq',\n",
        "\n",
        "    'msToken': 'K9LGAGEC73XUGgrDSjGwHYObuUOsGIxsrpcsxTqzKn8UGwG8jJvdHL7Yi4HvfV1eMJL0Zjj0O1VH2VjwnIuXxc2nV4ljKkqx0Qg91U_k5LvOI51OVMWmMfz8Ep_Hvo8=',\n",
        "\n",
        "    'ttwid': '1%7CQniK2q6HENRjMl2A_d1pllFUh1ENcz_nIxPr1_1BBZ8%7C1686319996%7Cc67ecb467bc185ea9d90b3129705c77d380ce12b99ba85c946209f991e60b2df',\n",
        "\n",
        "}\n",
        "\n",
        "headers = {\n",
        "\n",
        "    'authority': 'ads.tiktok.com',\n",
        "\n",
        "    'accept': 'application/json, text/plain, */*',\n",
        "\n",
        "    'accept-language': 'en-US,en;q=0.9',\n",
        "\n",
        "    'content-type': 'application/json',\n",
        "\n",
        "    'cookie': 'tta_attr_id=0.1686291566.7242567125989064705; tta_attr_id_mirror=0.1686291566.7242567125989064705; part=stable; passport_csrf_token=5f8e11f914ee0721954394dfd296933e; passport_csrf_token_default=5f8e11f914ee0721954394dfd296933e; pre_country=DE; csrftoken=AZoIEZhrus3HGSIKZUTBfbWCSxO03Rwq; s_v_web_id=verify_lio6mvv9_Kv0iUiwo_7trT_4icB_9IhZ_DXyWDA5DOW4e; d_ticket_ads=cb0024caab9589700d6ae2427e1023e3612bb; sso_auth_status_ads=77e11bcb27c0c3c20414f7b95481538c; sso_auth_status_ss_ads=77e11bcb27c0c3c20414f7b95481538c; sso_uid_tt_ads=36cfa6edfbb141e292a6ad60814b439d865b9dd14414bc1d077baa2a2e9108da; sso_uid_tt_ss_ads=36cfa6edfbb141e292a6ad60814b439d865b9dd14414bc1d077baa2a2e9108da; sso_user_ads=217f303c071cc59fd971264a2d4d520c; sso_user_ss_ads=217f303c071cc59fd971264a2d4d520c; toutiao_sso_user_ads=217f303c071cc59fd971264a2d4d520c; toutiao_sso_user_ss_ads=217f303c071cc59fd971264a2d4d520c; sid_ucp_sso_v1_ads=1.0.0-KDI1ODA3ODNmNTc1YWZjNjNhNjE2YzliODBkYTk3NzcwYWQ0ZDNmZWEKIAiCiN7o2d-8u2QQ2ouLpAYYrwwgDDCh5tujBjgBQOsHEAMaA3NnMSIgMjE3ZjMwM2MwNzFjYzU5ZmQ5NzEyNjRhMmQ0ZDUyMGM; ssid_ucp_sso_v1_ads=1.0.0-KDI1ODA3ODNmNTc1YWZjNjNhNjE2YzliODBkYTk3NzcwYWQ0ZDNmZWEKIAiCiN7o2d-8u2QQ2ouLpAYYrwwgDDCh5tujBjgBQOsHEAMaA3NnMSIgMjE3ZjMwM2MwNzFjYzU5ZmQ5NzEyNjRhMmQ0ZDUyMGM; ac_csrftoken=67e18c6dc1cf42cfb46dcc56fb89283d; cookie-consent={%22ga%22:true%2C%22af%22:true%2C%22fbp%22:true%2C%22lip%22:true%2C%22bing%22:true%2C%22ttads%22:true%2C%22reddit%22:true%2C%22criteo%22:true%2C%22version%22:%22v9%22}; store-idc=useast2a; store-country-code=de; store-country-code-src=uid; from_way=paid; _gcl_au=1.1.1073791087.1686311899; _gid=GA1.2.1056190696.1686311899; _gat_UA-143770054-3=1; _rdt_uuid=1686311898873.8f2306bd-eedc-4bd9-ac15-adf14eac0de7; _fbp=fb.1.1686311898888.2048509297; _tt_enable_cookie=1; _ttp=2Qy3GL5nDQ3SsLxDQhq5S6QA86g; _gcl_aw=GCL.1686316821.CjwKCAjwm4ukBhAuEiwA0zQxk00OAya5lc1ibi4tzBMq6anBtgjbMT7DohqllyDyYqQU00qiyNaRURoCIxoQAvD_BwE; _gac_UA-143770054-3=1.1686316821.CjwKCAjwm4ukBhAuEiwA0zQxk00OAya5lc1ibi4tzBMq6anBtgjbMT7DohqllyDyYqQU00qiyNaRURoCIxoQAvD_BwE; _uetsid=ecb518b006bc11ee870dcf1f66d39c1f; _uetvid=ecb5540006bc11eeb1d2d7dbf53acf46; _hjSessionUser_2525957=eyJpZCI6IjQzN2Y1OTU5LTIwOTktNTBiYi1iY2ExLTE4ZjQ5ZmNiMmQ0ZiIsImNyZWF0ZWQiOjE2ODYzMTE4OTg4OTksImV4aXN0aW5nIjp0cnVlfQ==; cto_bundle=QazT-19nYVNKRGFxWVRvNGJIRFB0OG5BYm5xNFRHYnFXRWg0YTFyR0h1b3I4am5ZZFBKd1laNmZFeFlwOGVLa2NMTHIxZHUlMkZ5UHlTN3NmWG1qZUYlMkZQSENxbkxRaFptYVA4dzl0eEVVR2ZVOWpNdFJDbHdhNjNwN2lSeWcxeEVEQzAzTmFjWGlXY2tDSk9meWlrTlE0d2t5MlhBJTNEJTNE; passport_auth_status_ads=82a7b97448a2d2bf6e9da55f60ad2451%2C1e0ed49d6e0e110c5373a1eb0c039e68; passport_auth_status_ss_ads=82a7b97448a2d2bf6e9da55f60ad2451%2C1e0ed49d6e0e110c5373a1eb0c039e68; sid_guard_ads=c9676ba770c2ebb3646300262ae0dfeb%7C1686316819%7C839110%7CMon%2C+19-Jun-2023+06%3A25%3A29+GMT; uid_tt_ads=6fac74bb565e506c6b6e2901a513e7d43882497149591f37f75f78aae8a1583a; uid_tt_ss_ads=6fac74bb565e506c6b6e2901a513e7d43882497149591f37f75f78aae8a1583a; sid_tt_ads=c9676ba770c2ebb3646300262ae0dfeb; sessionid_ads=c9676ba770c2ebb3646300262ae0dfeb; sessionid_ss_ads=c9676ba770c2ebb3646300262ae0dfeb; sid_ucp_v1_ads=1.0.0-KDg1YmNkM2E4YTQ3OTFhOGYyYmM5MmQ2NTNkYjliNjYyZTNkNjQ3MTIKGgiCiN7o2d-8u2QQk86MpAYYrwwgDDgBQOsHEAMaA3NnMSIgYzk2NzZiYTc3MGMyZWJiMzY0NjMwMDI2MmFlMGRmZWI; ssid_ucp_v1_ads=1.0.0-KDg1YmNkM2E4YTQ3OTFhOGYyYmM5MmQ2NTNkYjliNjYyZTNkNjQ3MTIKGgiCiN7o2d-8u2QQk86MpAYYrwwgDDgBQOsHEAMaA3NnMSIgYzk2NzZiYTc3MGMyZWJiMzY0NjMwMDI2MmFlMGRmZWI; _ga_R5EYE54KWQ=GS1.1.1686316820.2.0.1686316826.54.0.0; lang_type=en; _ga=GA1.1.936221396.1686291572; msToken=y0FSNUlVfsEYsUoTbPOtn2ClwDl56BGeU1BNDssgVKICkQ2Bqvb9gi4YH1qfwCqbtC1msUSBTLt0ZmmvzzTIg_pzV5symouaT6I29_fpWPiIIjR7wE4w9x3mf0eoja0=; _ga_HV1FL86553=GS1.1.1686316826.3.0.1686316833.53.0.0; odin_tt=3cc4637750eda28d1eedfbecfd614b1cf7c8fd8587905317ed0940940dbbe59ec97e49ebb4ffea18564521c518b46dbe; api_csrftoken=AZoIEZhrus3HGSIKZUTBfbWCSxO03Rwq; msToken=K9LGAGEC73XUGgrDSjGwHYObuUOsGIxsrpcsxTqzKn8UGwG8jJvdHL7Yi4HvfV1eMJL0Zjj0O1VH2VjwnIuXxc2nV4ljKkqx0Qg91U_k5LvOI51OVMWmMfz8Ep_Hvo8=; ttwid=1%7CQniK2q6HENRjMl2A_d1pllFUh1ENcz_nIxPr1_1BBZ8%7C1686319996%7Cc67ecb467bc185ea9d90b3129705c77d380ce12b99ba85c946209f991e60b2df',\n",
        "\n",
        "    'origin': 'https://ads.tiktok.com',\n",
        "\n",
        "    'referer': 'https://ads.tiktok.com/i18n/fast_creation/ads-creation/audience-placement?aadvid=7239240949719728130&attr_adgroup_id=128524691985&attr_medium=search-br-ad&attr_source=google&attr_term=business%20tiktok&country=DE&gad=1&gclid=CjwKCAjwm4ukBhAuEiwA0zQxk00OAya5lc1ibi4tzBMq6anBtgjbMT7DohqllyDyYqQU00qiyNaRURoCIxoQAvD_BwE&lang=en&no_parent_redirect=1',\n",
        "\n",
        "    'sec-ch-ua': '\"Not.A/Brand\";v=\"8\", \"Chromium\";v=\"114\", \"Google Chrome\";v=\"114\"',\n",
        "\n",
        "    'sec-ch-ua-mobile': '?0',\n",
        "\n",
        "    'sec-ch-ua-platform': '\"Windows\"',\n",
        "\n",
        "    'sec-fetch-dest': 'empty',\n",
        "\n",
        "    'sec-fetch-mode': 'cors',\n",
        "\n",
        "    'sec-fetch-site': 'same-origin',\n",
        "\n",
        "    'user-agent': 'Mozilla/5.0 (Windows NT 10.0; Win64; x64) AppleWebKit/537.36 (KHTML, like Gecko) Chrome/114.0.0.0 Safari/537.36',\n",
        "\n",
        "    'x-csrftoken': 'AZoIEZhrus3HGSIKZUTBfbWCSxO03Rwq',\n",
        "\n",
        "}\n",
        "\n",
        "Json_Data = {\n",
        "   \"objective_type\": 9,\n",
        "   \"inventory_flow\": [\n",
        "      \"3000\"\n",
        "   ],\n",
        "   \"audience\": {\n",
        "      \"ad_tag_v2\": [],\n",
        "      \"video_actions_v2\": [],\n",
        "      \"action_categories_v2\": [],\n",
        "      \"action_days_v2\": [],\n",
        "      \"action_scenes_v2\": [],\n",
        "      \"platform\": [\n",
        "         \"0\"\n",
        "      ],\n",
        "      \"retargeting_tags\": [],\n",
        "      \"retargeting_tags_exclude\": [],\n",
        "      \"particle_locations\": [\n",
        "         \"3017382\"\n",
        "      ],\n",
        "      \"gender\": \"0\",\n",
        "      \"ac\": [],\n",
        "      \"age\": [],\n",
        "      \"language_list\": [],\n",
        "      \"android_osv\": \"\",\n",
        "      \"ios_osv\": \"\",\n",
        "      \"carriers\": [],\n",
        "      \"launch_price\": [],\n",
        "      \"flow_package_include\": [],\n",
        "      \"flow_package_exclude\": [],\n",
        "      \"app_retargeting_install\": False,\n",
        "      \"app_retargeting_type\": None,\n",
        "      \"retargeting_audience_rule\": None,\n",
        "      \"automated_targeting\": 0\n",
        "   },\n",
        "   \"ad_ref_app_id\": \"\",\n",
        "   \"ad_ref_pixel_id\": \"\",\n",
        "   \"external_type\": 602,\n",
        "   \"optimize_goal\": 108,\n",
        "   \"op_sys_filter\": 0\n",
        "}\n"
      ],
      "metadata": {
        "id": "aiVf0G0dq4xi"
      },
      "execution_count": null,
      "outputs": []
    },
    {
      "cell_type": "markdown",
      "source": [
        "# Distribution of TikTok Users in Germany States - Based on Gender\n",
        "\n",
        "Here we will sends a POST request to the TikTok API with specified cookies, headers, JSON data, LocID, and GenID. The function modifies the JSON data by updating the 'particle_locations' and 'gender' fields before sending the request. The result of the request is stored in response, and the content of the response is decoded and returned as a string."
      ],
      "metadata": {
        "id": "pwdu2TQusKC5"
      }
    },
    {
      "cell_type": "code",
      "source": [
        "def request_tiktok(cookies, headers, Json_Data, LocID, GenID):\n",
        "  Json_Data['audience']['particle_locations'] = LocID\n",
        "  Json_Data['audience']['gender'] = GenID\n",
        "  response = requests.post(\n",
        "\n",
        "    'https://ads.tiktok.com/api/v3/i18n/optimizer/audience/user/estimate/?aadvid=7239240949719728130&req_src=am_lite&msToken=y0FSNUlVfsEYsUoTbPOtn2ClwDl56BGeU1BNDssgVKICkQ2Bqvb9gi4YH1qfwCqbtC1msUSBTLt0ZmmvzzTIg_pzV5symouaT6I29_fpWPiIIjR7wE4w9x3mf0eoja0=&X-Bogus=DFSzswVuyyx-rH1btrlHtsXyYJlI&_signature=_02B4Z6wo00001ZfTaYwAAIDAtHJHIfnZwcmX020AAAF478',\n",
        "\n",
        "    cookies=cookies,\n",
        "\n",
        "    headers=headers,\n",
        "\n",
        "    json=Json_Data ,)\n",
        "  Respose_String = response.content.decode('utf-8')\n",
        "  return Respose_String"
      ],
      "metadata": {
        "id": "PYZaHBjvmsMR"
      },
      "execution_count": null,
      "outputs": []
    },
    {
      "cell_type": "code",
      "source": [
        "print"
      ],
      "metadata": {
        "colab": {
          "base_uri": "https://localhost:8080/",
          "height": 165
        },
        "id": "mhXyl5pjoNNj",
        "outputId": "7e030dc6-44cf-4034-f180-0a36180dd415"
      },
      "execution_count": 2,
      "outputs": [
        {
          "output_type": "error",
          "ename": "NameError",
          "evalue": "ignored",
          "traceback": [
            "\u001b[0;31m---------------------------------------------------------------------------\u001b[0m",
            "\u001b[0;31mNameError\u001b[0m                                 Traceback (most recent call last)",
            "\u001b[0;32m<ipython-input-2-93569ab5a078>\u001b[0m in \u001b[0;36m<cell line: 1>\u001b[0;34m()\u001b[0m\n\u001b[0;32m----> 1\u001b[0;31m \u001b[0mprint\u001b[0m\u001b[0;34m(\u001b[0m\u001b[0mresponse\u001b[0m\u001b[0;34m.\u001b[0m\u001b[0mcontent\u001b[0m\u001b[0;34m)\u001b[0m\u001b[0;34m\u001b[0m\u001b[0;34m\u001b[0m\u001b[0m\n\u001b[0m",
            "\u001b[0;31mNameError\u001b[0m: name 'response' is not defined"
          ]
        }
      ]
    },
    {
      "cell_type": "code",
      "source": [
        "def get_upper_lower(Respose_String):\n",
        "    output_result = json.loads(Respose_String)\n",
        "    lower = output_result['data']['upper_user_count']\n",
        "    uper = output_result['data']['lower_user_count']\n",
        "    return uper, lower"
      ],
      "metadata": {
        "id": "rUOnn0k5rDUi"
      },
      "execution_count": null,
      "outputs": []
    },
    {
      "cell_type": "code",
      "source": [
        "gender = {'Male': '1', 'Female': '2'}\n",
        "locations = {'Saarland': ['2842635'],\n",
        "             'Berlin': ['2950157'],\n",
        "             'Bavaria': ['2951839']\n",
        "             }"
      ],
      "metadata": {
        "id": "I8VJMk5qrEvK"
      },
      "execution_count": null,
      "outputs": []
    },
    {
      "cell_type": "code",
      "source": [
        "# Create an empty DataFrame\n",
        "result_df = pd.DataFrame(columns=['Location', 'Gender', 'Upper Value', 'Lower Value'])\n",
        "\n",
        "# Iterate over locations\n",
        "for location_key, location_value in locations.items():\n",
        "    # Iterate over gender\n",
        "    for gender_key, gender_value in gender.items():\n",
        "        # Make the request with location and gender values\n",
        "        response = request_tiktok(cookies, headers, Json_Data, location_value, gender_value)\n",
        "\n",
        "        # Extract the upper and lower values from the response\n",
        "        uper, lower = get_upper_lower(response)\n",
        "        # Append the result to the DataFrame\n",
        "        df_temp = pd.DataFrame({'Location': location_key, 'Gender': gender_key, 'Upper Value': uper, 'Lower Value': lower}, index=[0])\n",
        "        result_df = pd.concat([result_df, df_temp], ignore_index=True)\n",
        "\n",
        "        time.sleep(10)\n",
        "\n",
        "        # # Store the upper and lower values in the result dictionary\n",
        "        # result_dict = {\"location\": location_key, \"gender\": gender_key, \"upper\": uper, \"lower\": lower}"
      ],
      "metadata": {
        "id": "8WZbQnDXrMsT"
      },
      "execution_count": null,
      "outputs": []
    },
    {
      "cell_type": "code",
      "source": [
        "print(result_df)"
      ],
      "metadata": {
        "colab": {
          "base_uri": "https://localhost:8080/"
        },
        "id": "nEpzru-xrQCK",
        "outputId": "98c2ade1-b81f-422f-85e6-9fa396f9689a"
      },
      "execution_count": null,
      "outputs": [
        {
          "output_type": "stream",
          "name": "stdout",
          "text": [
            "   Location  Gender Upper Value Lower Value\n",
            "0  Saarland    Male       80000       99000\n",
            "1  Saarland  Female       86000      107000\n",
            "2    Berlin    Male      642000      786000\n",
            "3    Berlin  Female      657000      804000\n",
            "4   Bavaria    Male     1091000     1335000\n",
            "5   Bavaria  Female     1128000     1379000\n"
          ]
        }
      ]
    },
    {
      "cell_type": "code",
      "source": [
        "result_df['Users_Mean'] = result_df[['Upper Value', 'Lower Value']].mean(axis = 1)\n",
        "\n",
        "\n",
        "# Pivot the data to have separate columns for Male and Female users\n",
        "pivot_df = result_df.pivot(index='Location', columns='Gender', values='Users_Mean')\n",
        "\n",
        "# Plot the bar plot\n",
        "ax = pivot_df.plot(kind='bar', rot=0) #rot - Rotation\n",
        "ax.set_ylabel('Number of Users (In Millione)', fontweight='bold', fontsize=11)\n",
        "ax.set_xlabel(\"States\", fontweight='bold', fontsize=11)\n",
        "ax.set_title('Distribution of TikTok Users in three States of Germany', fontweight='bold', fontsize=11)\n",
        "\n",
        "\n",
        "plt.show()"
      ],
      "metadata": {
        "colab": {
          "base_uri": "https://localhost:8080/",
          "height": 486
        },
        "id": "jte1hLOmS6t2",
        "outputId": "f2d0032b-3ec9-43d9-a633-f5090a7ff96f"
      },
      "execution_count": null,
      "outputs": [
        {
          "output_type": "display_data",
          "data": {
            "text/plain": [
              "<Figure size 640x480 with 1 Axes>"
            ],
            "image/png": "[encoded data removed]"
          },
          "metadata": {}
        }
      ]
    },
    {
      "cell_type": "code",
      "source": [
        "##########################Your Turn - Give a Try to See the Distribution of Users Based on Gender on Three Other States of Germany##########################\n",
        "# Germany: 2921044\n",
        "\n",
        "# Baden-Württemberg: 2953481\n",
        "\n",
        "# Bavaria: 2951839\n",
        "\n",
        "# Berlin: 2950157\n",
        "\n",
        "# Brandenburg: 2945356\n",
        "\n",
        "# Bremen: 2944387\n",
        "\n",
        "# Hamburg: 2911297\n",
        "\n",
        "# Hesse: 2905330\n",
        "\n",
        "# Lower Saxony: 2862926\n",
        "\n",
        "# Mecklenburg-Vorpommern: 2872567\n",
        "\n",
        "# North Rhine-Westphalia: 2861876\n",
        "\n",
        "# Rhineland-Palatinate: 2847618\n",
        "\n",
        "# Saarland: 2842635\n",
        "\n",
        "# Saxony: 2842566\n",
        "\n",
        "# Saxony-Anhalt: 2944387\n",
        "\n",
        "# Schleswig-Holstein: 2838632\n",
        "\n",
        "# Thuringia: 2822542"
      ],
      "metadata": {
        "id": "PAbjASGkvAz5"
      },
      "execution_count": null,
      "outputs": []
    },
    {
      "cell_type": "markdown",
      "source": [
        "# Who interests in what in Saarland - Two Wheel Vehicales\n",
        "\n",
        "In this following, we will send a request to ads.tiktok.com to determine the number of users interested in Two-Wheel Vehicles in Saarland."
      ],
      "metadata": {
        "id": "xXFMqNkuuYSB"
      }
    },
    {
      "cell_type": "code",
      "source": [
        "def request_tiktok_Two_WheeledVehicles(cookies, headers, Json_Data, GenID, InterestID):\n",
        "  Json_Data['audience']['particle_locations'] = ['2842635']\n",
        "  Json_Data['audience']['gender'] = GenID\n",
        "  Json_Data['audience']['ad_tag_v2'] = InterestID\n",
        "  response = requests.post(\n",
        "\n",
        "    'https://ads.tiktok.com/api/v3/i18n/optimizer/audience/user/estimate/?aadvid=7239240949719728130&req_src=am_lite&msToken=y0FSNUlVfsEYsUoTbPOtn2ClwDl56BGeU1BNDssgVKICkQ2Bqvb9gi4YH1qfwCqbtC1msUSBTLt0ZmmvzzTIg_pzV5symouaT6I29_fpWPiIIjR7wE4w9x3mf0eoja0=&X-Bogus=DFSzswVuyyx-rH1btrlHtsXyYJlI&_signature=_02B4Z6wo00001ZfTaYwAAIDAtHJHIfnZwcmX020AAAF478',\n",
        "\n",
        "    cookies=cookies,\n",
        "\n",
        "    headers=headers,\n",
        "\n",
        "    json=Json_Data ,)\n",
        "  Respose_String_Two_WheeledVehicles = response.content.decode('utf-8')\n",
        "  return Respose_String_Two_WheeledVehicles"
      ],
      "metadata": {
        "id": "VpGnJUwhqvaE"
      },
      "execution_count": null,
      "outputs": []
    },
    {
      "cell_type": "code",
      "source": [
        "def getting_upper_user_count(data_string):\n",
        "    data_dict = json.loads(data_string)\n",
        "    upper_user_count = data_dict['data']['upper_user_count']\n",
        "    return upper_user_count"
      ],
      "metadata": {
        "id": "N5n1bf63q0V7"
      },
      "execution_count": null,
      "outputs": []
    },
    {
      "cell_type": "code",
      "source": [
        "# Response_interstOnVehicals = request_tiktok_Two_WheeledVehicles(cookies, headers, Json_Data, '1', ['11108'])\n",
        "# print(getting_upper_user_count(Response_interstOnVehicals))\n",
        "TwoWheeledVehicaleIDs = {\n",
        "    'Motorcycal': ['11106'],\n",
        "    'Bicycle': ['11107'],\n",
        "    'ElectronicEscooter': ['11108']\n",
        "}\n",
        "\n",
        "Gender_IDsVehicale = {\n",
        "    'Male': '1',\n",
        "    'Female': '2'\n",
        "}"
      ],
      "metadata": {
        "id": "hgvBIzE-q1vD"
      },
      "execution_count": null,
      "outputs": []
    },
    {
      "cell_type": "code",
      "source": [
        "# Create an empty DataFrame\n",
        "result_Vehicals = pd.DataFrame(columns=['twoWheelsVehcale_Type', 'Gender', 'NumberOfUsers'])\n",
        "\n",
        "for vehi_key, vehi_value in TwoWheeledVehicaleIDs.items():\n",
        "  for gen_key, gen_value in Gender_IDsVehicale.items():\n",
        "    res_veh = request_tiktok_Two_WheeledVehicles(cookies, headers, Json_Data, gen_value, vehi_value)\n",
        "    Tik_users = getting_upper_user_count(res_veh)\n",
        "\n",
        "    Temp_Data = pd.DataFrame({'twoWheelsVehcale_Type': vehi_key, 'Gender': gen_key, 'NumberOfUsers': Tik_users}, index=[0])\n",
        "\n",
        "    result_Vehicals = pd.concat([result_Vehicals, Temp_Data], ignore_index=True)\n",
        "    time.sleep(10)"
      ],
      "metadata": {
        "id": "YEB8ZuBWq8AK"
      },
      "execution_count": null,
      "outputs": []
    },
    {
      "cell_type": "code",
      "source": [
        "print(result_Vehicals)"
      ],
      "metadata": {
        "colab": {
          "base_uri": "https://localhost:8080/"
        },
        "id": "xFlpFdi7q--i",
        "outputId": "04da90c0-6bde-475d-9f7a-7dcd5e7c2240"
      },
      "execution_count": null,
      "outputs": [
        {
          "output_type": "stream",
          "name": "stdout",
          "text": [
            "  twoWheelsVehcale_Type  Gender NumberOfUsers\n",
            "0            Motorcycal    Male         20000\n",
            "1            Motorcycal  Female         14000\n",
            "2               Bicycle    Male         44000\n",
            "3               Bicycle  Female         37000\n",
            "4    ElectronicEscooter    Male         33000\n",
            "5    ElectronicEscooter  Female         28000\n"
          ]
        }
      ]
    },
    {
      "cell_type": "code",
      "source": [
        "# Pivot the dataframe to have Gender as columns\n",
        "pivot_df = result_Vehicals.pivot(index='twoWheelsVehcale_Type', columns='Gender', values='NumberOfUsers')\n",
        "\n",
        "# Plot the bar chart\n",
        "pivot_df.plot(kind='barh')\n",
        "plt.ylabel('Two Wheel Vehicle Type', fontweight='bold', fontsize=11)\n",
        "plt.xlabel('Number of Users', fontweight='bold', fontsize=11)\n",
        "plt.title('Users Intrested in Two-Wheel Vehical - Saarland', fontweight='bold', fontsize=11)\n",
        "plt.grid(axis='x', linestyle='--', alpha=0.7)\n",
        "plt.show()"
      ],
      "metadata": {
        "colab": {
          "base_uri": "https://localhost:8080/",
          "height": 471
        },
        "id": "XdJvvhzcZHGt",
        "outputId": "dc1c204d-cdb2-4dd9-c1b6-afbd66057c61"
      },
      "execution_count": null,
      "outputs": [
        {
          "output_type": "display_data",
          "data": {
            "text/plain": [
              "<Figure size 640x480 with 1 Axes>"
            ],
            "image/png": "[encoded data removed]"
          },
          "metadata": {}
        }
      ]
    },
    {
      "cell_type": "code",
      "source": [
        "##########################Your Turn - Give a Try to See who interests in what in terms of hotels (Luxury Hotels, Economy Hotels and Villas) in Berlin##########################\n",
        "#"
      ],
      "metadata": {
        "id": "PnzF0Fuawtsw"
      },
      "execution_count": null,
      "outputs": []
    },
    {
      "cell_type": "markdown",
      "source": [
        "# Who intract with which type of videos - Commenting on Beauty and Style\n",
        "\n",
        "In this section, our objective is to analyze user interaction with videos, specifically focusing on the category of Beauty and Style in Germany. We aim to identify which videos have the highest level of interaction, particularly in terms of commenting."
      ],
      "metadata": {
        "id": "bXWwhcZtwzZu"
      }
    },
    {
      "cell_type": "code",
      "source": [
        "def request_tiktok_BeutyAndStyle(cookies, headers, Json_Data, GenID):\n",
        "  Json_Data['audience']['particle_locations'] = ['2921044']\n",
        "  Json_Data['audience']['gender'] = GenID\n",
        "  Json_Data['audience']['video_actions_v2'] = [['2']]\n",
        "  Json_Data['audience']['action_categories_v2'] = [['16']]\n",
        "  Json_Data['audience']['action_days_v2'] = ['15']\n",
        "  Json_Data['audience']['action_scenes_v2'] = ['2']\n",
        "  response = requests.post(\n",
        "\n",
        "    'https://ads.tiktok.com/api/v3/i18n/optimizer/audience/user/estimate/?aadvid=7239240949719728130&req_src=am_lite&msToken=y0FSNUlVfsEYsUoTbPOtn2ClwDl56BGeU1BNDssgVKICkQ2Bqvb9gi4YH1qfwCqbtC1msUSBTLt0ZmmvzzTIg_pzV5symouaT6I29_fpWPiIIjR7wE4w9x3mf0eoja0=&X-Bogus=DFSzswVuyyx-rH1btrlHtsXyYJlI&_signature=_02B4Z6wo00001ZfTaYwAAIDAtHJHIfnZwcmX020AAAF478',\n",
        "\n",
        "    cookies=cookies,\n",
        "\n",
        "    headers=headers,\n",
        "\n",
        "    json=Json_Data ,)\n",
        "  Respose_String_BeutyAndStyle = response.content.decode('utf-8')\n",
        "  return Respose_String_BeutyAndStyle"
      ],
      "metadata": {
        "id": "LessjcO63hyj"
      },
      "execution_count": null,
      "outputs": []
    },
    {
      "cell_type": "code",
      "source": [
        "# Response_BeutyAndStyle = request_tiktok_BeutyAndStyle(cookies, headers, Json_Data)\n",
        "# print(getting_upper_user_count(Response_BeutyAndStyle))\n",
        "Gender_IDsBeuty = {\n",
        "    'Male': '1',\n",
        "    'Female': '2'\n",
        "}"
      ],
      "metadata": {
        "id": "0Phb92Or3oBa"
      },
      "execution_count": null,
      "outputs": []
    },
    {
      "cell_type": "code",
      "source": [
        "result_Beuty = pd.DataFrame(columns=['Country', 'Gender', 'NumberOfUser'])\n",
        "for genBeu_key, GenBeu_value in Gender_IDsBeuty.items():\n",
        "  res_beuty = request_tiktok_BeutyAndStyle(cookies, headers, Json_Data, GenBeu_value)\n",
        "  Tik_Beuty_Users = getting_upper_user_count(res_beuty)\n",
        "  T_Beu_Data = pd.DataFrame({'Country': 'Germany', 'Gender': genBeu_key, \"NumberOfUser\": Tik_Beuty_Users}, index=[0])\n",
        "  result_Beuty = pd.concat([result_Beuty, T_Beu_Data], ignore_index=True)\n",
        "  time.sleep(10)"
      ],
      "metadata": {
        "id": "lG5tlKam3ruZ"
      },
      "execution_count": null,
      "outputs": []
    },
    {
      "cell_type": "code",
      "source": [
        "print(result_Beuty)"
      ],
      "metadata": {
        "colab": {
          "base_uri": "https://localhost:8080/"
        },
        "id": "CLWbT6Oq3tvZ",
        "outputId": "ed255b6e-5103-4b9a-a307-060c9b5d66fd"
      },
      "execution_count": null,
      "outputs": [
        {
          "output_type": "stream",
          "name": "stdout",
          "text": [
            "   Country  Gender NumberOfUser\n",
            "0  Germany    Male       593000\n",
            "1  Germany  Female      1164000\n"
          ]
        }
      ]
    },
    {
      "cell_type": "code",
      "source": [
        "# Plotting\n",
        "fig, ax = plt.subplots()\n",
        "colors = ['#4287f5', '#ff7aa2']\n",
        "ax.pie(result_Beuty['NumberOfUser'], labels=result_Beuty['Gender'], autopct='%1.1f%%', colors=colors)\n",
        "\n",
        "ax.set_title('Users Who Commented in Beauty&Style Videos - Germany', fontweight='bold')\n",
        "\n",
        "plt.show()"
      ],
      "metadata": {
        "colab": {
          "base_uri": "https://localhost:8080/",
          "height": 428
        },
        "id": "pvWzJsEMj6Nx",
        "outputId": "81217ae9-e359-433f-d7f7-f82a33c04b18"
      },
      "execution_count": null,
      "outputs": [
        {
          "output_type": "display_data",
          "data": {
            "text/plain": [
              "<Figure size 640x480 with 1 Axes>"
            ],
            "image/png": "[encoded data removed]"
          },
          "metadata": {}
        }
      ]
    },
    {
      "cell_type": "code",
      "source": [
        "##########################Your Turn - Give a Try to See Who Watched more Videos about Beauty and Syle in Saarland##########################\n",
        "#video_actions_v2\":[[0]]"
      ],
      "metadata": {
        "id": "JoJLNz55yuN5"
      },
      "execution_count": null,
      "outputs": []
    },
    {
      "cell_type": "markdown",
      "source": [
        "# Some links that may help you to learn more about TikTok advertising data\n",
        "\n",
        "\n",
        "\n",
        "*   [TikTok Marketing API Documentation ](https://ads.tiktok.com/gateway/docs/index?identify_key=2b9b4278e47b275f36e7c39a4af4ba067d088e031d5f5fe45d381559ac89ba48&language=ENGLISH&doc_id=1707957200780290)\n",
        "*   [Seeing ChatGPT Through Students' Eyes: An Analysis of TikTok Data](https://arxiv.org/abs/2303.05349)\n",
        "\n",
        "\n",
        "*   [TikTok Analysis with Python](https://www.analyticsvidhya.com/blog/2023/03/tiktok-sentiment-analysis-with-python-analyzing-user-reviews/)\n",
        "\n",
        "\n",
        "\n"
      ],
      "metadata": {
        "id": "Qn0XNklvy6Hg"
      }
    }
  ]
}